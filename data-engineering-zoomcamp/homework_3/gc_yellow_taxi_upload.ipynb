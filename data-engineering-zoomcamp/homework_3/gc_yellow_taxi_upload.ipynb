{
 "cells": [
  {
   "cell_type": "code",
   "execution_count": 2,
   "id": "65b61058-a4da-4b0e-827e-d3512af53a32",
   "metadata": {},
   "outputs": [
    {
     "name": "stdout",
     "output_type": "stream",
     "text": [
      "Requirement already satisfied: google-cloud-storage in c:\\program files\\python312\\lib\\site-packages (3.0.0)\n",
      "Requirement already satisfied: google-auth<3.0dev,>=2.26.1 in c:\\program files\\python312\\lib\\site-packages (from google-cloud-storage) (2.38.0)\n",
      "Requirement already satisfied: google-api-core<3.0.0dev,>=2.15.0 in c:\\program files\\python312\\lib\\site-packages (from google-cloud-storage) (2.24.1)\n",
      "Requirement already satisfied: google-cloud-core<3.0dev,>=2.3.0 in c:\\program files\\python312\\lib\\site-packages (from google-cloud-storage) (2.4.1)\n",
      "Requirement already satisfied: google-resumable-media>=2.7.2 in c:\\program files\\python312\\lib\\site-packages (from google-cloud-storage) (2.7.2)\n",
      "Requirement already satisfied: requests<3.0.0dev,>=2.18.0 in c:\\program files\\python312\\lib\\site-packages (from google-cloud-storage) (2.32.3)\n",
      "Requirement already satisfied: google-crc32c<2.0dev,>=1.0 in c:\\program files\\python312\\lib\\site-packages (from google-cloud-storage) (1.6.0)\n",
      "Requirement already satisfied: googleapis-common-protos<2.0.dev0,>=1.56.2 in c:\\program files\\python312\\lib\\site-packages (from google-api-core<3.0.0dev,>=2.15.0->google-cloud-storage) (1.67.0rc1)\n",
      "Requirement already satisfied: protobuf!=3.20.0,!=3.20.1,!=4.21.0,!=4.21.1,!=4.21.2,!=4.21.3,!=4.21.4,!=4.21.5,<6.0.0.dev0,>=3.19.5 in c:\\program files\\python312\\lib\\site-packages (from google-api-core<3.0.0dev,>=2.15.0->google-cloud-storage) (5.29.3)\n",
      "Requirement already satisfied: proto-plus<2.0.0dev,>=1.22.3 in c:\\program files\\python312\\lib\\site-packages (from google-api-core<3.0.0dev,>=2.15.0->google-cloud-storage) (1.26.0)\n",
      "Requirement already satisfied: cachetools<6.0,>=2.0.0 in c:\\program files\\python312\\lib\\site-packages (from google-auth<3.0dev,>=2.26.1->google-cloud-storage) (5.5.1)\n",
      "Requirement already satisfied: pyasn1-modules>=0.2.1 in c:\\program files\\python312\\lib\\site-packages (from google-auth<3.0dev,>=2.26.1->google-cloud-storage) (0.4.1)\n",
      "Requirement already satisfied: rsa<5,>=3.1.4 in c:\\program files\\python312\\lib\\site-packages (from google-auth<3.0dev,>=2.26.1->google-cloud-storage) (4.9)\n",
      "Requirement already satisfied: charset-normalizer<4,>=2 in c:\\program files\\python312\\lib\\site-packages (from requests<3.0.0dev,>=2.18.0->google-cloud-storage) (3.3.2)\n",
      "Requirement already satisfied: idna<4,>=2.5 in c:\\program files\\python312\\lib\\site-packages (from requests<3.0.0dev,>=2.18.0->google-cloud-storage) (3.10)\n",
      "Requirement already satisfied: urllib3<3,>=1.21.1 in c:\\program files\\python312\\lib\\site-packages (from requests<3.0.0dev,>=2.18.0->google-cloud-storage) (2.2.3)\n",
      "Requirement already satisfied: certifi>=2017.4.17 in c:\\program files\\python312\\lib\\site-packages (from requests<3.0.0dev,>=2.18.0->google-cloud-storage) (2024.8.30)\n",
      "Requirement already satisfied: pyasn1<0.7.0,>=0.4.6 in c:\\program files\\python312\\lib\\site-packages (from pyasn1-modules>=0.2.1->google-auth<3.0dev,>=2.26.1->google-cloud-storage) (0.6.1)\n",
      "Note: you may need to restart the kernel to use updated packages.\n"
     ]
    }
   ],
   "source": [
    "!pip install google-cloud-storage"
   ]
  },
  {
   "cell_type": "code",
   "execution_count": 3,
   "id": "3aefffd6-e462-45eb-98db-b82adbb6cbcc",
   "metadata": {},
   "outputs": [],
   "source": [
    "import os\n",
    "import urllib.request\n",
    "from concurrent.futures import ThreadPoolExecutor\n",
    "from google.cloud import storage\n",
    "import time"
   ]
  },
  {
   "cell_type": "code",
   "execution_count": 4,
   "id": "93b5f4ca-9d84-4cf1-a87e-6c4588d6134d",
   "metadata": {},
   "outputs": [
    {
     "name": "stdout",
     "output_type": "stream",
     "text": [
      "Downloading https://d37ci6vzurychx.cloudfront.net/trip-data/yellow_tripdata_2024-01.parquet...Downloading https://d37ci6vzurychx.cloudfront.net/trip-data/yellow_tripdata_2024-02.parquet...\n",
      "\n",
      "Downloading https://d37ci6vzurychx.cloudfront.net/trip-data/yellow_tripdata_2024-03.parquet...\n",
      "Downloading https://d37ci6vzurychx.cloudfront.net/trip-data/yellow_tripdata_2024-04.parquet...\n",
      "Downloaded: .\\yellow_tripdata_2024-02.parquet\n",
      "Downloading https://d37ci6vzurychx.cloudfront.net/trip-data/yellow_tripdata_2024-05.parquet...\n",
      "Downloaded: .\\yellow_tripdata_2024-01.parquet\n",
      "Downloading https://d37ci6vzurychx.cloudfront.net/trip-data/yellow_tripdata_2024-06.parquet...\n",
      "Downloaded: .\\yellow_tripdata_2024-03.parquet\n",
      "Downloaded: .\\yellow_tripdata_2024-04.parquet\n",
      "Downloaded: .\\yellow_tripdata_2024-06.parquet\n",
      "Downloaded: .\\yellow_tripdata_2024-05.parquet\n",
      "Uploading .\\yellow_tripdata_2024-01.parquet to de_zoomcamp_zotya (Attempt 1)...\n",
      "Uploading .\\yellow_tripdata_2024-02.parquet to de_zoomcamp_zotya (Attempt 1)...\n",
      "Uploading .\\yellow_tripdata_2024-03.parquet to de_zoomcamp_zotya (Attempt 1)...\n",
      "Uploading .\\yellow_tripdata_2024-04.parquet to de_zoomcamp_zotya (Attempt 1)...\n",
      "Uploaded: gs://de_zoomcamp_zotya/yellow_tripdata_2024-02.parquet\n",
      "Verification successful for yellow_tripdata_2024-02.parquet\n",
      "Uploading .\\yellow_tripdata_2024-05.parquet to de_zoomcamp_zotya (Attempt 1)...\n",
      "Uploaded: gs://de_zoomcamp_zotya/yellow_tripdata_2024-01.parquet\n",
      "Verification successful for yellow_tripdata_2024-01.parquet\n",
      "Uploading .\\yellow_tripdata_2024-06.parquet to de_zoomcamp_zotya (Attempt 1)...\n",
      "Uploaded: gs://de_zoomcamp_zotya/yellow_tripdata_2024-04.parquet\n",
      "Verification successful for yellow_tripdata_2024-04.parquet\n",
      "Uploaded: gs://de_zoomcamp_zotya/yellow_tripdata_2024-05.parquet\n",
      "Verification successful for yellow_tripdata_2024-05.parquet\n",
      "Uploaded: gs://de_zoomcamp_zotya/yellow_tripdata_2024-03.parquet\n",
      "Verification successful for yellow_tripdata_2024-03.parquet\n",
      "Uploaded: gs://de_zoomcamp_zotya/yellow_tripdata_2024-06.parquet\n",
      "Verification successful for yellow_tripdata_2024-06.parquet\n",
      "All files processed and verified.\n"
     ]
    }
   ],
   "source": [
    "BUCKET_NAME = \"de_zoomcamp_zotya\"  \n",
    "\n",
    "\n",
    "CREDENTIALS_FILE = \"de-zoomcamp-448512-a6f8cff7c994.json\"  \n",
    "client = storage.Client.from_service_account_json(CREDENTIALS_FILE)\n",
    "\n",
    "\n",
    "BASE_URL = \"https://d37ci6vzurychx.cloudfront.net/trip-data/yellow_tripdata_2024-\"\n",
    "MONTHS = [f\"{i:02d}\" for i in range(1, 7)] \n",
    "DOWNLOAD_DIR = \".\"\n",
    "\n",
    "CHUNK_SIZE = 8 * 1024 * 1024  \n",
    "\n",
    "os.makedirs(DOWNLOAD_DIR, exist_ok=True)\n",
    "\n",
    "bucket = client.bucket(BUCKET_NAME)\n",
    "\n",
    "\n",
    "def download_file(month):\n",
    "    url = f\"{BASE_URL}{month}.parquet\"\n",
    "    file_path = os.path.join(DOWNLOAD_DIR, f\"yellow_tripdata_2024-{month}.parquet\")\n",
    "\n",
    "    try:\n",
    "        print(f\"Downloading {url}...\")\n",
    "        urllib.request.urlretrieve(url, file_path)\n",
    "        print(f\"Downloaded: {file_path}\")\n",
    "        return file_path\n",
    "    except Exception as e:\n",
    "        print(f\"Failed to download {url}: {e}\")\n",
    "        return None\n",
    "\n",
    "\n",
    "def verify_gcs_upload(blob_name):\n",
    "    return storage.Blob(bucket=bucket, name=blob_name).exists(client)\n",
    "\n",
    "\n",
    "def upload_to_gcs(file_path, max_retries=3):\n",
    "    blob_name = os.path.basename(file_path)\n",
    "    blob = bucket.blob(blob_name)\n",
    "    blob.chunk_size = CHUNK_SIZE  \n",
    "    \n",
    "    for attempt in range(max_retries):\n",
    "        try:\n",
    "            print(f\"Uploading {file_path} to {BUCKET_NAME} (Attempt {attempt + 1})...\")\n",
    "            blob.upload_from_filename(file_path)\n",
    "            print(f\"Uploaded: gs://{BUCKET_NAME}/{blob_name}\")\n",
    "            \n",
    "            if verify_gcs_upload(blob_name):\n",
    "                print(f\"Verification successful for {blob_name}\")\n",
    "                return\n",
    "            else:\n",
    "                print(f\"Verification failed for {blob_name}, retrying...\")\n",
    "        except Exception as e:\n",
    "            print(f\"Failed to upload {file_path} to GCS: {e}\")\n",
    "        \n",
    "        time.sleep(5)  \n",
    "    \n",
    "    print(f\"Giving up on {file_path} after {max_retries} attempts.\")\n",
    "\n",
    "\n",
    "if __name__ == \"__main__\":\n",
    "    with ThreadPoolExecutor(max_workers=4) as executor:\n",
    "        file_paths = list(executor.map(download_file, MONTHS))\n",
    "\n",
    "    with ThreadPoolExecutor(max_workers=4) as executor:\n",
    "        executor.map(upload_to_gcs, filter(None, file_paths))  # Remove None values\n",
    "\n",
    "    print(\"All files processed and verified.\")"
   ]
  },
  {
   "cell_type": "code",
   "execution_count": null,
   "id": "9b5ee54e-c3f9-4687-94c8-e57044546396",
   "metadata": {},
   "outputs": [],
   "source": []
  }
 ],
 "metadata": {
  "kernelspec": {
   "display_name": "Python 3 (ipykernel)",
   "language": "python",
   "name": "python3"
  },
  "language_info": {
   "codemirror_mode": {
    "name": "ipython",
    "version": 3
   },
   "file_extension": ".py",
   "mimetype": "text/x-python",
   "name": "python",
   "nbconvert_exporter": "python",
   "pygments_lexer": "ipython3",
   "version": "3.12.6"
  }
 },
 "nbformat": 4,
 "nbformat_minor": 5
}
