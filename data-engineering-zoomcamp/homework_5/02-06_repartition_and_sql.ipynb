{
 "cells": [
  {
   "cell_type": "code",
   "execution_count": 1,
   "id": "507d0465-071f-4ca4-9e5d-25c917cb33fe",
   "metadata": {},
   "outputs": [
    {
     "name": "stdout",
     "output_type": "stream",
     "text": [
      "--2025-03-11 22:35:57--  https://d37ci6vzurychx.cloudfront.net/trip-data/yellow_tripdata_2024-10.parquet\n",
      "Resolving d37ci6vzurychx.cloudfront.net (d37ci6vzurychx.cloudfront.net)... 18.155.128.222, 18.155.128.46, 18.155.128.187, ...\n",
      "Connecting to d37ci6vzurychx.cloudfront.net (d37ci6vzurychx.cloudfront.net)|18.155.128.222|:443... connected.\n",
      "HTTP request sent, awaiting response... 200 OK\n",
      "Length: 64346071 (61M) [binary/octet-stream]\n",
      "Saving to: ‘yellow_tripdata_2024-10.parquet’\n",
      "\n",
      "yellow_tripdata_202 100%[===================>]  61.36M   155MB/s    in 0.4s    \n",
      "\n",
      "2025-03-11 22:35:58 (155 MB/s) - ‘yellow_tripdata_2024-10.parquet’ saved [64346071/64346071]\n",
      "\n"
     ]
    }
   ],
   "source": [
    "!wget https://d37ci6vzurychx.cloudfront.net/trip-data/yellow_tripdata_2024-10.parquet"
   ]
  },
  {
   "cell_type": "code",
   "execution_count": 10,
   "id": "069347a4-00f5-4ee5-931b-b4a498fd03ca",
   "metadata": {},
   "outputs": [
    {
     "name": "stdout",
     "output_type": "stream",
     "text": [
      "01_test.ipynb\t\t  re_yellow\n",
      "02_yellow_2024_oct.ipynb  yellow_tripdata_2024-10.parquet\n"
     ]
    }
   ],
   "source": [
    "!ls"
   ]
  },
  {
   "cell_type": "code",
   "execution_count": 1,
   "id": "f79a4fd5-d8fc-4e02-b254-99d7bba4c13b",
   "metadata": {},
   "outputs": [],
   "source": [
    "import pyspark\n",
    "from pyspark.sql import SparkSession"
   ]
  },
  {
   "cell_type": "code",
   "execution_count": 2,
   "id": "8acdccc9-a3d6-47f6-9820-5ca49d6323a2",
   "metadata": {},
   "outputs": [
    {
     "name": "stderr",
     "output_type": "stream",
     "text": [
      "Setting default log level to \"WARN\".\n",
      "To adjust logging level use sc.setLogLevel(newLevel). For SparkR, use setLogLevel(newLevel).\n",
      "25/03/11 22:47:32 WARN NativeCodeLoader: Unable to load native-hadoop library for your platform... using builtin-java classes where applicable\n"
     ]
    }
   ],
   "source": [
    "spark = SparkSession.builder \\\n",
    "    .master(\"local[*]\") \\\n",
    "    .appName('homework') \\\n",
    "    .getOrCreate()"
   ]
  },
  {
   "cell_type": "code",
   "execution_count": 3,
   "id": "e0b78c02-b4f7-4799-9576-d1b580007acc",
   "metadata": {},
   "outputs": [
    {
     "name": "stderr",
     "output_type": "stream",
     "text": [
      "                                                                                \r"
     ]
    }
   ],
   "source": [
    "df = spark.read \\\n",
    "    .option(\"header\", \"true\") \\\n",
    "    .parquet('yellow_tripdata_2024-10.parquet')"
   ]
  },
  {
   "cell_type": "code",
   "execution_count": 4,
   "id": "8f50c079-bc9c-485d-b20f-b5ad982d7b8a",
   "metadata": {},
   "outputs": [
    {
     "name": "stderr",
     "output_type": "stream",
     "text": [
      "                                                                                \r"
     ]
    }
   ],
   "source": [
    "df.repartition(4).write.parquet(\"re_yellow\", mode=\"overwrite\")"
   ]
  },
  {
   "cell_type": "code",
   "execution_count": 6,
   "id": "e1c3d0e4-8baa-4fdd-8283-862dea1e016d",
   "metadata": {},
   "outputs": [
    {
     "name": "stdout",
     "output_type": "stream",
     "text": [
      "total 90M\n",
      "-rw-r--r-- 1 zotya zotya   0 Mar 11 22:47 _SUCCESS\n",
      "-rw-r--r-- 1 zotya zotya 23M Mar 11 22:47 part-00000-f67d0f0e-4550-4a36-8e90-c9b27db22a88-c000.snappy.parquet\n",
      "-rw-r--r-- 1 zotya zotya 23M Mar 11 22:47 part-00001-f67d0f0e-4550-4a36-8e90-c9b27db22a88-c000.snappy.parquet\n",
      "-rw-r--r-- 1 zotya zotya 23M Mar 11 22:47 part-00002-f67d0f0e-4550-4a36-8e90-c9b27db22a88-c000.snappy.parquet\n",
      "-rw-r--r-- 1 zotya zotya 23M Mar 11 22:47 part-00003-f67d0f0e-4550-4a36-8e90-c9b27db22a88-c000.snappy.parquet\n"
     ]
    }
   ],
   "source": [
    "!ls -lh re_yellow"
   ]
  },
  {
   "cell_type": "code",
   "execution_count": 7,
   "id": "f42df6b0-be9f-45f4-8785-e356942d8055",
   "metadata": {},
   "outputs": [],
   "source": [
    "df.createOrReplaceTempView('yellow_10_24')"
   ]
  },
  {
   "cell_type": "code",
   "execution_count": 8,
   "id": "b97d9b75-d0a1-4ae8-a165-68ad09d88036",
   "metadata": {},
   "outputs": [
    {
     "data": {
      "text/plain": [
       "['VendorID',\n",
       " 'tpep_pickup_datetime',\n",
       " 'tpep_dropoff_datetime',\n",
       " 'passenger_count',\n",
       " 'trip_distance',\n",
       " 'RatecodeID',\n",
       " 'store_and_fwd_flag',\n",
       " 'PULocationID',\n",
       " 'DOLocationID',\n",
       " 'payment_type',\n",
       " 'fare_amount',\n",
       " 'extra',\n",
       " 'mta_tax',\n",
       " 'tip_amount',\n",
       " 'tolls_amount',\n",
       " 'improvement_surcharge',\n",
       " 'total_amount',\n",
       " 'congestion_surcharge',\n",
       " 'Airport_fee']"
      ]
     },
     "execution_count": 8,
     "metadata": {},
     "output_type": "execute_result"
    }
   ],
   "source": [
    "df.columns"
   ]
  },
  {
   "cell_type": "code",
   "execution_count": 42,
   "id": "3093be71-5b61-4ed2-a16b-cdeecb303080",
   "metadata": {},
   "outputs": [
    {
     "name": "stdout",
     "output_type": "stream",
     "text": [
      "+-----+---+------+\n",
      "|Month|Day| trips|\n",
      "+-----+---+------+\n",
      "|   10| 15|128893|\n",
      "+-----+---+------+\n",
      "\n"
     ]
    }
   ],
   "source": [
    "spark.sql(\"\"\"\n",
    "SELECT \n",
    "    EXTRACT(MONTH FROM tpep_pickup_datetime) AS Month,\n",
    "    EXTRACT(DAY FROM tpep_pickup_datetime) AS Day,\n",
    "    COUNT(1) AS trips\n",
    "FROM yellow_10_24\n",
    "WHERE EXTRACT(DAY FROM tpep_pickup_datetime) = 15\n",
    "GROUP BY Month, Day;\n",
    "\"\"\").show()"
   ]
  },
  {
   "cell_type": "code",
   "execution_count": 46,
   "id": "69790665-e56b-45fc-a2f9-72510f28814e",
   "metadata": {},
   "outputs": [
    {
     "name": "stderr",
     "output_type": "stream",
     "text": [
      "[Stage 29:==============>                                           (1 + 3) / 4]\r"
     ]
    },
    {
     "name": "stdout",
     "output_type": "stream",
     "text": [
      "+--------------------+---------------------+------------+\n",
      "|tpep_pickup_datetime|tpep_dropoff_datetime|trip_time_hh|\n",
      "+--------------------+---------------------+------------+\n",
      "| 2024-10-16 13:03:49|  2024-10-23 07:40:53|         162|\n",
      "| 2024-10-03 18:47:25|  2024-10-09 18:06:55|         143|\n",
      "| 2024-10-22 16:00:55|  2024-10-28 09:46:33|         137|\n",
      "| 2024-10-18 09:53:32|  2024-10-23 04:43:37|         114|\n",
      "| 2024-10-20 13:30:52|  2024-10-24 06:57:38|          89|\n",
      "| 2024-10-21 00:36:24|  2024-10-24 18:30:18|          89|\n",
      "| 2024-10-22 16:04:52|  2024-10-25 14:22:49|          70|\n",
      "| 2024-10-12 19:32:51|  2024-10-15 15:07:15|          67|\n",
      "| 2024-10-17 17:58:18|  2024-10-20 12:02:18|          66|\n",
      "| 2024-10-21 14:28:21|  2024-10-23 12:53:42|          46|\n",
      "| 2024-10-20 18:58:28|  2024-10-22 13:17:00|          42|\n",
      "| 2024-10-24 20:29:58|  2024-10-26 10:58:25|          38|\n",
      "| 2024-10-23 23:52:02|  2024-10-25 09:49:06|          33|\n",
      "| 2024-10-02 10:36:50|  2024-10-03 12:54:45|          26|\n",
      "| 2024-10-14 22:39:53|  2024-10-15 23:57:22|          25|\n",
      "| 2024-10-15 11:49:15|  2024-10-16 13:03:33|          25|\n",
      "| 2024-10-23 11:22:58|  2024-10-24 11:51:10|          24|\n",
      "| 2024-10-01 14:55:46|  2024-10-02 14:47:07|          23|\n",
      "| 2024-10-11 00:03:43|  2024-10-12 00:00:00|          23|\n",
      "| 2024-10-01 21:14:07|  2024-10-02 20:53:15|          23|\n",
      "+--------------------+---------------------+------------+\n",
      "only showing top 20 rows\n",
      "\n"
     ]
    },
    {
     "name": "stderr",
     "output_type": "stream",
     "text": [
      "                                                                                \r"
     ]
    }
   ],
   "source": [
    "spark.sql(\"\"\"\n",
    "SELECT tpep_pickup_datetime, tpep_dropoff_datetime,\n",
    "    DATEDIFF(hour, tpep_pickup_datetime, tpep_dropoff_datetime) AS trip_time_hh\n",
    "FROM yellow_10_24\n",
    "ORDER BY trip_time_hh DESC;\n",
    "\"\"\").show()"
   ]
  },
  {
   "cell_type": "code",
   "execution_count": 47,
   "id": "f87f0126-3471-4559-a662-408e962c5c5e",
   "metadata": {},
   "outputs": [
    {
     "name": "stdout",
     "output_type": "stream",
     "text": [
      "--2025-03-11 23:26:58--  https://d37ci6vzurychx.cloudfront.net/misc/taxi_zone_lookup.csv\n",
      "Resolving d37ci6vzurychx.cloudfront.net (d37ci6vzurychx.cloudfront.net)... 18.155.128.6, 18.155.128.46, 18.155.128.187, ...\n",
      "Connecting to d37ci6vzurychx.cloudfront.net (d37ci6vzurychx.cloudfront.net)|18.155.128.6|:443... connected.\n",
      "HTTP request sent, awaiting response... 200 OK\n",
      "Length: 12331 (12K) [text/csv]\n",
      "Saving to: ‘taxi_zone_lookup.csv’\n",
      "\n",
      "taxi_zone_lookup.cs 100%[===================>]  12.04K  --.-KB/s    in 0s      \n",
      "\n",
      "2025-03-11 23:26:58 (293 MB/s) - ‘taxi_zone_lookup.csv’ saved [12331/12331]\n",
      "\n"
     ]
    }
   ],
   "source": [
    "!wget https://d37ci6vzurychx.cloudfront.net/misc/taxi_zone_lookup.csv"
   ]
  },
  {
   "cell_type": "code",
   "execution_count": 48,
   "id": "0be0bbc5-bdb2-448a-95a0-467a182285bf",
   "metadata": {},
   "outputs": [],
   "source": [
    "df_zones = spark.read \\\n",
    "    .option(\"header\", \"true\") \\\n",
    "    .csv('taxi_zone_lookup.csv')"
   ]
  },
  {
   "cell_type": "code",
   "execution_count": 49,
   "id": "af0faf89-7fbf-40c2-b41c-c2a4bd938d61",
   "metadata": {},
   "outputs": [
    {
     "name": "stdout",
     "output_type": "stream",
     "text": [
      "+----------+-------------+--------------------+------------+\n",
      "|LocationID|      Borough|                Zone|service_zone|\n",
      "+----------+-------------+--------------------+------------+\n",
      "|         1|          EWR|      Newark Airport|         EWR|\n",
      "|         2|       Queens|         Jamaica Bay|   Boro Zone|\n",
      "|         3|        Bronx|Allerton/Pelham G...|   Boro Zone|\n",
      "|         4|    Manhattan|       Alphabet City| Yellow Zone|\n",
      "|         5|Staten Island|       Arden Heights|   Boro Zone|\n",
      "|         6|Staten Island|Arrochar/Fort Wad...|   Boro Zone|\n",
      "|         7|       Queens|             Astoria|   Boro Zone|\n",
      "|         8|       Queens|        Astoria Park|   Boro Zone|\n",
      "|         9|       Queens|          Auburndale|   Boro Zone|\n",
      "|        10|       Queens|        Baisley Park|   Boro Zone|\n",
      "|        11|     Brooklyn|          Bath Beach|   Boro Zone|\n",
      "|        12|    Manhattan|        Battery Park| Yellow Zone|\n",
      "|        13|    Manhattan|   Battery Park City| Yellow Zone|\n",
      "|        14|     Brooklyn|           Bay Ridge|   Boro Zone|\n",
      "|        15|       Queens|Bay Terrace/Fort ...|   Boro Zone|\n",
      "|        16|       Queens|             Bayside|   Boro Zone|\n",
      "|        17|     Brooklyn|             Bedford|   Boro Zone|\n",
      "|        18|        Bronx|        Bedford Park|   Boro Zone|\n",
      "|        19|       Queens|           Bellerose|   Boro Zone|\n",
      "|        20|        Bronx|             Belmont|   Boro Zone|\n",
      "+----------+-------------+--------------------+------------+\n",
      "only showing top 20 rows\n",
      "\n"
     ]
    }
   ],
   "source": [
    "df_zones.show()"
   ]
  },
  {
   "cell_type": "code",
   "execution_count": 54,
   "id": "8b5bfc4d-1c37-46f2-ac0d-87d151af6bda",
   "metadata": {},
   "outputs": [],
   "source": [
    "df_join = df.join(df_zones, df.PULocationID == df_zones.LocationID)"
   ]
  },
  {
   "cell_type": "code",
   "execution_count": 55,
   "id": "6a2ddee9-e0d9-4291-aa3f-4bda90f58317",
   "metadata": {},
   "outputs": [],
   "source": [
    "df_join.createOrReplaceTempView('yellow_10_24_zone')"
   ]
  },
  {
   "cell_type": "code",
   "execution_count": 58,
   "id": "396f6533-5415-4a2c-b7f6-fc9e14051fbe",
   "metadata": {},
   "outputs": [
    {
     "name": "stdout",
     "output_type": "stream",
     "text": [
      "+--------------------+-------+\n",
      "|                Zone|pickups|\n",
      "+--------------------+-------+\n",
      "|Governor's Island...|      1|\n",
      "|       Rikers Island|      2|\n",
      "|       Arden Heights|      2|\n",
      "|         Jamaica Bay|      3|\n",
      "| Green-Wood Cemetery|      3|\n",
      "|Charleston/Totten...|      4|\n",
      "|   Rossville/Woodrow|      4|\n",
      "|       West Brighton|      4|\n",
      "|Eltingville/Annad...|      4|\n",
      "|       Port Richmond|      4|\n",
      "|         Great Kills|      6|\n",
      "|        Crotona Park|      6|\n",
      "|Heartland Village...|      7|\n",
      "|     Mariners Harbor|      7|\n",
      "|Saint George/New ...|      9|\n",
      "|             Oakwood|      9|\n",
      "|       Broad Channel|     10|\n",
      "|New Dorp/Midland ...|     10|\n",
      "|         Westerleigh|     12|\n",
      "|     Pelham Bay Park|     12|\n",
      "+--------------------+-------+\n",
      "only showing top 20 rows\n",
      "\n"
     ]
    }
   ],
   "source": [
    "spark.sql(\"\"\"\n",
    "SELECT Zone, COUNT(1) AS pickups\n",
    "FROM yellow_10_24_zone\n",
    "GROUP BY Zone\n",
    "ORDER BY pickups ASC;\n",
    "\"\"\").show()"
   ]
  },
  {
   "cell_type": "code",
   "execution_count": null,
   "id": "c163ea77-a4d9-4fdb-9eca-1eafeeadbdec",
   "metadata": {},
   "outputs": [],
   "source": []
  }
 ],
 "metadata": {
  "kernelspec": {
   "display_name": "Python 3 (ipykernel)",
   "language": "python",
   "name": "python3"
  },
  "language_info": {
   "codemirror_mode": {
    "name": "ipython",
    "version": 3
   },
   "file_extension": ".py",
   "mimetype": "text/x-python",
   "name": "python",
   "nbconvert_exporter": "python",
   "pygments_lexer": "ipython3",
   "version": "3.12.2"
  }
 },
 "nbformat": 4,
 "nbformat_minor": 5
}
